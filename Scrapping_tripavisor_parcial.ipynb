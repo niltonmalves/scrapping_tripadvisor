{
 "cells": [
  {
   "cell_type": "code",
   "execution_count": 1,
   "metadata": {},
   "outputs": [],
   "source": [
    "import os\n",
    "import re\n",
    "import requests\n",
    "from bs4 import BeautifulSoup\n",
    "import time\n",
    "import random\n",
    "import pandas as pd\n",
    "import numpy as np\n"
   ]
  },
  {
   "cell_type": "code",
   "execution_count": 2,
   "metadata": {},
   "outputs": [],
   "source": [
    "#verificar comentarios de hotel especifico\n",
    "#depois vou tentar pegar todos os hoteis de uma regiao, fazer a comparacao de avalaicao dos usuarios\n",
    "# e verificar se o ranking será similar ao do site"
   ]
  },
  {
   "cell_type": "code",
   "execution_count": 6,
   "metadata": {},
   "outputs": [],
   "source": [
    "#url='https://www.tripadvisor.com.br/Hotel_Review-g303492-d455828-Reviews-Pousada_Lestada-Armacao_dos_Buzios_State_of_Rio_de_Janeiro.html'\n",
    "url='https://www.tripadvisor.com.br/Hotel_Review-g303492-d455828-Reviews-Pousada_Lestada-Armacao_dos_Buzios_State_of_Rio_de_Janeiro.html#REVIEWS'"
   ]
  },
  {
   "cell_type": "code",
   "execution_count": 7,
   "metadata": {},
   "outputs": [],
   "source": [
    "# Using a User-Agent String in the request to prevent getting blocked while scraping\n",
    "response = requests.get(url, headers={\"Accept\": \"text/html,application/xhtml+xml,application/xml;q=0.9,image/webp,*/*;q=0.8\",\n",
    "                                      \"User-Agent\": \"Mozilla/5.0 (Macintosh; Intel Mac OS X 10_9_3) AppleWebKit/537.36 (KHTML, like Gecko) Chrome/35.0.1916.47 Safari/537.36\"})\n",
    "soup=BeautifulSoup(response.text, 'html.parser')"
   ]
  },
  {
   "cell_type": "code",
   "execution_count": 8,
   "metadata": {},
   "outputs": [
    {
     "data": {
      "text/plain": [
       "131"
      ]
     },
     "execution_count": 8,
     "metadata": {},
     "output_type": "execute_result"
    }
   ],
   "source": [
    "#soup.find_all('span', attrs={'class':'pageNum current cx_brand_refresh_phase2 disabled'})\n",
    "#terceiro elemento eh a quantidade de avaliacoes em portugues\n",
    "no=soup.find_all('span', attrs={'class':'location-review-review-list-parts-LanguageFilter__paren_count--2vk3f'})[2].text\n",
    "no=int(no[1:-1])\n",
    "no"
   ]
  },
  {
   "cell_type": "code",
   "execution_count": 9,
   "metadata": {},
   "outputs": [],
   "source": [
    "url_reviews=[]\n",
    "url_reviews.append('https://www.tripadvisor.com.br/Hotel_Review-g303492-d455828-Reviews-Pousada_Lestada-Armacao_dos_Buzios_State_of_Rio_de_Janeiro.html#REVIEWS')\n",
    "\n",
    "#end_rev=5\n",
    "for end_rev in range(5, no,5):\n",
    "    url_reviews.append('https://www.tripadvisor.com.br/Hotel_Review-g303492-d455828-Reviews-or{}-Pousada_Lestada-Armacao_dos_Buzios_State_of_Rio_de_Janeiro.html#REVIEWS'.format(end_rev))"
   ]
  },
  {
   "cell_type": "code",
   "execution_count": 10,
   "metadata": {},
   "outputs": [],
   "source": [
    "#url_reviews\n",
    "tpviagem=[]\n",
    "resumo=[]\n",
    "contribuicoes=[]\n",
    "usuario=[]\n",
    "conteudo=[]\n",
    "for i in url_reviews:\n",
    "    response = requests.get(i, headers={\"Accept\": \"text/html,application/xhtml+xml,application/xml;q=0.9,image/webp,*/*;q=0.8\",\n",
    "                                              \"User-Agent\": \"Mozilla/5.0 (Macintosh; Intel Mac OS X 10_9_3) AppleWebKit/537.36 (KHTML, like Gecko) Chrome/35.0.1916.47 Safari/537.36\"})\n",
    "    soup=BeautifulSoup(response.text, 'html.parser')\n",
    "    \n",
    "    size=len(soup.find_all('a',attrs={'class':'ui_header_link social-member-event-MemberEventOnObjectBlock__member--35-jC'}))\n",
    "    for j in range(size):\n",
    "        \n",
    "\n",
    "    \n",
    "    \n",
    "\n",
    "        #tipo de viagem\n",
    "        #tpviagem.append(soup.find_all('span',attrs={'class':'location-review-review-list-parts-TripType__trip_type--3w17i'})[j].text)\n",
    "\n",
    "        #resumo(titulo avaliacao)\n",
    "        resumo.append(soup.find_all('a', attrs={'class':\n",
    "        'location-review-review-list-parts-ReviewTitle__reviewTitleText--2tFRT'})[j].text)\n",
    "\n",
    "        #pegar numero de contribuicoes\n",
    "        contribuicoes.append(int(soup.find_all('div',\n",
    "                      attrs={'class':\n",
    "        'social-member-MemberHeaderStats__event_info--30wFs'})[j].find_all('span',attrs={'class':\"social-member-MemberHeaderStats__bold--3z3qh\"})[0].text))\n",
    "\n",
    "        #usuario\n",
    "        usuario.append(soup.find_all('a',\n",
    "                      attrs={'class':\n",
    "        'ui_header_link social-member-event-MemberEventOnObjectBlock__member--35-jC'})[j].text)\n",
    "\n",
    "        #conteudo\n",
    "        conteudo.append(soup.find_all('div', attrs={'class':'cPQsENeY','style':'max-height:160px'})[j].text)\n"
   ]
  },
  {
   "cell_type": "code",
   "execution_count": 11,
   "metadata": {},
   "outputs": [
    {
     "data": {
      "text/html": [
       "<div>\n",
       "<style scoped>\n",
       "    .dataframe tbody tr th:only-of-type {\n",
       "        vertical-align: middle;\n",
       "    }\n",
       "\n",
       "    .dataframe tbody tr th {\n",
       "        vertical-align: top;\n",
       "    }\n",
       "\n",
       "    .dataframe thead th {\n",
       "        text-align: right;\n",
       "    }\n",
       "</style>\n",
       "<table border=\"1\" class=\"dataframe\">\n",
       "  <thead>\n",
       "    <tr style=\"text-align: right;\">\n",
       "      <th></th>\n",
       "      <th>usuario</th>\n",
       "      <th>contribuicoes</th>\n",
       "      <th>resumo</th>\n",
       "      <th>conteudo</th>\n",
       "    </tr>\n",
       "  </thead>\n",
       "  <tbody>\n",
       "    <tr>\n",
       "      <th>0</th>\n",
       "      <td>Mari F</td>\n",
       "      <td>2</td>\n",
       "      <td>Pausada muito confortavel</td>\n",
       "      <td>A Pousada Lestada esta em uma localização exce...</td>\n",
       "    </tr>\n",
       "    <tr>\n",
       "      <th>1</th>\n",
       "      <td>Hayra P</td>\n",
       "      <td>1</td>\n",
       "      <td>Quarto e atendimento ruim</td>\n",
       "      <td>A cama era super desconfortável, dava pra sent...</td>\n",
       "    </tr>\n",
       "    <tr>\n",
       "      <th>2</th>\n",
       "      <td>Larissa P</td>\n",
       "      <td>40</td>\n",
       "      <td>Boa pousada, mas pode melhorar.</td>\n",
       "      <td>Pousada aconchegante, porém deixa a desejar qu...</td>\n",
       "    </tr>\n",
       "    <tr>\n",
       "      <th>3</th>\n",
       "      <td>FrequentFlier482194</td>\n",
       "      <td>1</td>\n",
       "      <td>Voltaríamos</td>\n",
       "      <td>Achei a pousada bem aconchegante,boa localidad...</td>\n",
       "    </tr>\n",
       "    <tr>\n",
       "      <th>4</th>\n",
       "      <td>KrUeL380</td>\n",
       "      <td>7</td>\n",
       "      <td>Noite em búzios</td>\n",
       "      <td>Pousada boa e bem localizada. Tinha um cheiro ...</td>\n",
       "    </tr>\n",
       "  </tbody>\n",
       "</table>\n",
       "</div>"
      ],
      "text/plain": [
       "               usuario  contribuicoes                           resumo  \\\n",
       "0               Mari F              2        Pausada muito confortavel   \n",
       "1              Hayra P              1        Quarto e atendimento ruim   \n",
       "2            Larissa P             40  Boa pousada, mas pode melhorar.   \n",
       "3  FrequentFlier482194              1                      Voltaríamos   \n",
       "4             KrUeL380              7                  Noite em búzios   \n",
       "\n",
       "                                            conteudo  \n",
       "0  A Pousada Lestada esta em uma localização exce...  \n",
       "1  A cama era super desconfortável, dava pra sent...  \n",
       "2  Pousada aconchegante, porém deixa a desejar qu...  \n",
       "3  Achei a pousada bem aconchegante,boa localidad...  \n",
       "4  Pousada boa e bem localizada. Tinha um cheiro ...  "
      ]
     },
     "execution_count": 11,
     "metadata": {},
     "output_type": "execute_result"
    }
   ],
   "source": [
    "#tpviagem=np.array(tpviagem)\n",
    "resumo=np.array(resumo)\n",
    "contribuicoes=np.array(contribuicoes)\n",
    "usuario=np.array(usuario)\n",
    "conteudo=np.array(conteudo)\n",
    "\n",
    "df=pd.DataFrame({'usuario':usuario,'contribuicoes':contribuicoes,'resumo':resumo,'conteudo':conteudo})\n",
    "df.head()"
   ]
  },
  {
   "cell_type": "code",
   "execution_count": null,
   "metadata": {},
   "outputs": [],
   "source": []
  }
 ],
 "metadata": {
  "kernelspec": {
   "display_name": "Python 3",
   "language": "python",
   "name": "python3"
  },
  "language_info": {
   "codemirror_mode": {
    "name": "ipython",
    "version": 3
   },
   "file_extension": ".py",
   "mimetype": "text/x-python",
   "name": "python",
   "nbconvert_exporter": "python",
   "pygments_lexer": "ipython3",
   "version": "3.7.3"
  }
 },
 "nbformat": 4,
 "nbformat_minor": 2
}
